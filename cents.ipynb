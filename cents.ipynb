{
 "cells": [
  {
   "cell_type": "code",
   "execution_count": 6,
   "metadata": {},
   "outputs": [
    {
     "name": "stdout",
     "output_type": "stream",
     "text": [
      "5\n",
      "0 1 1 3\n"
     ]
    }
   ],
   "source": [
    "cents = 18\n",
    "quarter = 25\n",
    "nickel = 5\n",
    "dime = 10\n",
    "penny = 1\n",
    "coins = 0\n",
    "q = 0\n",
    "n = 0\n",
    "d = 0\n",
    "p = 0\n",
    "'''if(cents > quarter):\n",
    "    coins = coins + (cents // quarter)'''\n",
    "while(cents > 0):\n",
    "    coins = coins + (cents//quarter)\n",
    "    q = coins\n",
    "    cents = cents % quarter\n",
    "    coins = coins + (cents//dime)\n",
    "    d = coins - q\n",
    "    cents = cents % dime\n",
    "    coins = coins + (cents//nickel)\n",
    "    n = coins - (d+q)\n",
    "    cents = cents % nickel\n",
    "    coins = coins + cents\n",
    "    p = cents\n",
    "    cents = cents % penny\n",
    "print(coins)\n",
    "print(q,d,n,p)"
   ]
  },
  {
   "cell_type": "code",
   "execution_count": 2,
   "metadata": {},
   "outputs": [
    {
     "data": {
      "text/plain": [
       "0"
      ]
     },
     "execution_count": 2,
     "metadata": {},
     "output_type": "execute_result"
    }
   ],
   "source": [
    "18 // 25"
   ]
  },
  {
   "cell_type": "code",
   "execution_count": 3,
   "metadata": {},
   "outputs": [
    {
     "data": {
      "text/plain": [
       "18"
      ]
     },
     "execution_count": 3,
     "metadata": {},
     "output_type": "execute_result"
    }
   ],
   "source": [
    "18 % 25"
   ]
  },
  {
   "cell_type": "code",
   "execution_count": null,
   "metadata": {},
   "outputs": [],
   "source": []
  }
 ],
 "metadata": {
  "kernelspec": {
   "display_name": "Python 3",
   "language": "python",
   "name": "python3"
  },
  "language_info": {
   "codemirror_mode": {
    "name": "ipython",
    "version": 3
   },
   "file_extension": ".py",
   "mimetype": "text/x-python",
   "name": "python",
   "nbconvert_exporter": "python",
   "pygments_lexer": "ipython3",
   "version": "3.7.0"
  }
 },
 "nbformat": 4,
 "nbformat_minor": 2
}
