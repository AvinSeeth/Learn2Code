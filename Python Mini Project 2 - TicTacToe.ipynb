{
 "cells": [
  {
   "cell_type": "code",
   "execution_count": 1,
   "metadata": {},
   "outputs": [
    {
     "name": "stdout",
     "output_type": "stream",
     "text": [
      "Enter your name: Swaroop\n",
      "Hello Swaroop\n"
     ]
    }
   ],
   "source": [
    "import sys\n",
    "import random\n",
    "\n",
    "person = input('Enter your name: ')\n",
    "print('Hello', person)\n",
    "\n",
    "moveCounter = 0\n",
    "matchOver = False\n",
    "\n",
    "userMoves = []\n",
    "myMoves = []\n",
    "\n",
    "field = [[1, 2, 3], [4, 5, 6], [7, 8, 9]]\n",
    "\n",
    "winnerPos = [[\"1\", \"2\", \"3\"], [\"1\", \"4\", \"7\"],\n",
    "             [\"1\", \"5\", \"9\"], [\"4\", \"5\", \"6\"],\n",
    "             [\"7\", \"8\", \"9\"], [\"2\", \"5\", \"8\"],\n",
    "             [\"3\", \"6\", \"9\"], [\"3\", \"5\", \"7\"]]\n",
    "\n",
    "firstAdvantage = [\"5\", \"1\", \"3\", \"7\", \"9\"]\n",
    "\n",
    "secondAdvantage = [[\"5\", \"1\"], [\"5\", \"3\"], [\"5\", \"7\"],\n",
    "                   [\"5\", \"9\"], [\"1\", \"3\"], [\"3\", \"9\"],\n",
    "                   [\"7\", \"9\"], [\"1\", \"7\"]]\n",
    "\n",
    "thirdAdvantage = [[\"1\", \"3\", \"5\"], [\"3\", \"5\", \"9\"], [\"7\", \"5\", \"9\"],\n",
    "                  [\"1\", \"5\", \"7\"], [\"1\", \"3\", \"9\"], [\"1\", \"3\", \"7\"],\n",
    "                  [\"7\", \"9\", \"3\"], [\"2\", \"4\", \"1\"], [\"2\", \"3\", \"6\"],\n",
    "                  [\"6\", \"9\", \"8\"], [\"4\", \"7\", \"8\"]]\n",
    "\n",
    "moves = ['1', '2', '3', '4', '5', '6', '7', '8', '9']"
   ]
  },
  {
   "cell_type": "code",
   "execution_count": 2,
   "metadata": {
    "collapsed": true
   },
   "outputs": [],
   "source": [
    "\"If player gets three in a row, player wins\"\n",
    "def checkWin(pos1, pos2, pos3, player):\n",
    "    if ((pos1 == player) and (pos2 == player) and (pos3 == player)):\n",
    "        playerWins = True\n",
    "        catsGame = False\n",
    "    else:\n",
    "        playerWins = False\n",
    "    return playerWins"
   ]
  },
  {
   "cell_type": "code",
   "execution_count": 3,
   "metadata": {
    "collapsed": true
   },
   "outputs": [],
   "source": [
    "\"Check all possible win scenarios for a player.\"\n",
    "def checkWinner(player):\n",
    "    for i in range(3):\n",
    "        win = checkWin(field[i][0], field[i][1], field[i][2], player)\n",
    "        if win:\n",
    "            if player == 'o':\n",
    "                print(\"I win!\")\n",
    "            else:\n",
    "                print (\"You win!\")\n",
    "            catsGame = False\n",
    "            sys.exit(0)\n",
    "    for i in range(3):\n",
    "        win = checkWin(field[0][i], field[1][i], field[2][i], player)\n",
    "        if win:\n",
    "            if player == 'o':\n",
    "                print(\"I win!\")\n",
    "            else:\n",
    "                print (\"You win!\")\n",
    "            catsGame = False\n",
    "            sys.exit(0)\n",
    "    win = checkWin(field[0][0], field[1][1], field[2][2], player)\n",
    "    if win:\n",
    "        if player == 'o':\n",
    "            print(\"I win!\")\n",
    "        else:\n",
    "            print (\"You win!\")\n",
    "        catsGame = False\n",
    "        sys.exit(0)\n",
    "\n",
    "    win = checkWin(field[0][2], field[1][1], field[2][0], player)\n",
    "    if win:\n",
    "        if player == 'o':\n",
    "            print(\"I win!\")\n",
    "        else:\n",
    "            print (\"You win!\")\n",
    "        catsGame = False\n",
    "        sys.exit(0)"
   ]
  },
  {
   "cell_type": "code",
   "execution_count": 4,
   "metadata": {
    "collapsed": true
   },
   "outputs": [],
   "source": [
    "\"Print the board.\"\n",
    "def printField():\n",
    "    counter = 0\n",
    "\n",
    "    for i in field[:2]:\n",
    "        for j in i[:2]:\n",
    "            print(\" \", j, \" | \", end=\"\")\n",
    "        print(\" \", field[counter][2])\n",
    "        counter += 1\n",
    "        print (\"------------------\")\n",
    "    print (\" \", field[2][0], \" |  \", field[2][1], \" |  \", field[2][2])\n",
    "\n",
    "\n",
    "counter = 0"
   ]
  },
  {
   "cell_type": "code",
   "execution_count": 5,
   "metadata": {
    "collapsed": true
   },
   "outputs": [],
   "source": [
    "\"Defines coordinates of each numbered position on board.\"\n",
    "def switch(x):\n",
    "    return {\n",
    "        '1': [0, 0],\n",
    "        '2': [0, 1],\n",
    "        '3': [0, 2],\n",
    "        '4': [1, 0],\n",
    "        '5': [1, 1],\n",
    "        '6': [1, 2],\n",
    "        '7': [2, 0],\n",
    "        '8': [2, 1],\n",
    "        '9': [2, 2]\n",
    "    }[x]"
   ]
  },
  {
   "cell_type": "code",
   "execution_count": 6,
   "metadata": {
    "collapsed": true
   },
   "outputs": [],
   "source": [
    "\"Fills a position with players move.\"\n",
    "def populate(x, side):\n",
    "    nums = switch(x)\n",
    "    field[nums[0]][nums[1]] = side"
   ]
  },
  {
   "cell_type": "code",
   "execution_count": 7,
   "metadata": {
    "collapsed": true
   },
   "outputs": [],
   "source": [
    "\"Anticipate win or advantage for each player.\"\n",
    "def think():\n",
    "    if moveCounter == 0:\n",
    "        answer = \"5\"\n",
    "    elif moveCounter == 1:\n",
    "        if userMoves[-1] == \"5\":\n",
    "            answer = \"1\"\n",
    "        else:\n",
    "            answer = \"5\"\n",
    "    else:\n",
    "        answer = anticipateWin()\n",
    "    if answer == \"0\":\n",
    "        answer = anticipateUserWin()\n",
    "    if answer == \"0\":\n",
    "        answer = anticipateAdvantage()\n",
    "    if answer == \"0\":\n",
    "        answer = anticipateUserAdvantage()\n",
    "    if answer == \"0\":\n",
    "        answer = random.choice(moves)\n",
    "    myMoves.append(answer)\n",
    "    return answer"
   ]
  },
  {
   "cell_type": "code",
   "execution_count": 8,
   "metadata": {
    "collapsed": true
   },
   "outputs": [],
   "source": [
    "\"Checks win and advantage scenario lists to inform next move.\"\n",
    "def anticipate(posList, whoMoves):\n",
    "    answer = \"0\"\n",
    "    for lis in posList:\n",
    "        commonEl = set(whoMoves) & set(lis)\n",
    "        if len(commonEl) > 1:\n",
    "            for el in lis:\n",
    "                if el not in commonEl:\n",
    "                    if el in moves:\n",
    "                        answer = el\n",
    "                        break\n",
    "                        break\n",
    "    return answer"
   ]
  },
  {
   "cell_type": "code",
   "execution_count": 9,
   "metadata": {
    "collapsed": true
   },
   "outputs": [],
   "source": [
    "\"Check if next move can win game.\"\n",
    "def anticipateWin():\n",
    "    answer = anticipate(winnerPos, myMoves)\n",
    "    return answer"
   ]
  },
  {
   "cell_type": "code",
   "execution_count": 10,
   "metadata": {
    "collapsed": true
   },
   "outputs": [],
   "source": [
    "\"Check if user's next move can win game.\"\n",
    "def anticipateUserWin():\n",
    "    answer = anticipate(winnerPos, userMoves)\n",
    "    return answer"
   ]
  },
  {
   "cell_type": "code",
   "execution_count": 11,
   "metadata": {
    "collapsed": true
   },
   "outputs": [],
   "source": [
    "\"Check if user's next move will give user advantage.\"\n",
    "def anticipateUserAdvantage():\n",
    "    if len(userMoves) < 2:\n",
    "        answer = anticipate(secondAdvantage, userMoves)\n",
    "    else:\n",
    "        answer = anticipate(thirdAdvantage, userMoves)\n",
    "    return answer"
   ]
  },
  {
   "cell_type": "code",
   "execution_count": 12,
   "metadata": {
    "collapsed": true
   },
   "outputs": [],
   "source": [
    "\"Check if next move can give advantage.\"\n",
    "def anticipateAdvantage():\n",
    "    answer = \"0\"\n",
    "    if len(myMoves) < 2:\n",
    "        answer = anticipate(secondAdvantage, myMoves)\n",
    "    else:\n",
    "        answer = anticipate(thirdAdvantage, myMoves)\n",
    "    return answer"
   ]
  },
  {
   "cell_type": "code",
   "execution_count": 13,
   "metadata": {},
   "outputs": [
    {
     "name": "stdout",
     "output_type": "stream",
     "text": [
      "  1  |   2  |   3\n",
      "------------------\n",
      "  4  |   5  |   6\n",
      "------------------\n",
      "  7  |   8  |   9\n",
      "Who moves first... you or me?: me\n"
     ]
    }
   ],
   "source": [
    "printField()\n",
    "\n",
    "\n",
    "\"User input decides who moves first.\"\n",
    "moveFirst = input(\"Who moves first... you or me?: \")\n",
    "\n",
    "if (moveFirst == \"you\"):\n",
    "    print (\"My turn: \")\n",
    "\n",
    "    if (len(moves) > 0):\n",
    "        myMove = think()\n",
    "\n",
    "    if (myMove in moves):\n",
    "        moves.remove(myMove)\n",
    "    else:\n",
    "        print (\"not in list\")\n",
    "\n",
    "    populate(myMove, 'o')\n",
    "\n",
    "    printField()\n",
    "\n",
    "    moveCounter += 1\n",
    "\n",
    "catsGame = True"
   ]
  },
  {
   "cell_type": "code",
   "execution_count": 14,
   "metadata": {},
   "outputs": [
    {
     "name": "stdout",
     "output_type": "stream",
     "text": [
      "Choose your move: 5\n",
      "  1  |   2  |   3\n",
      "------------------\n",
      "  4  |   x  |   6\n",
      "------------------\n",
      "  7  |   8  |   9\n",
      "My turn: \n",
      "  o  |   2  |   3\n",
      "------------------\n",
      "  4  |   x  |   6\n",
      "------------------\n",
      "  7  |   8  |   9\n",
      "Choose your move: 3\n",
      "  o  |   2  |   x\n",
      "------------------\n",
      "  4  |   x  |   6\n",
      "------------------\n",
      "  7  |   8  |   9\n",
      "My turn: \n",
      "  o  |   2  |   x\n",
      "------------------\n",
      "  4  |   x  |   6\n",
      "------------------\n",
      "  o  |   8  |   9\n",
      "Choose your move: 6\n",
      "  o  |   2  |   x\n",
      "------------------\n",
      "  4  |   x  |   x\n",
      "------------------\n",
      "  o  |   8  |   9\n",
      "My turn: \n",
      "  o  |   2  |   x\n",
      "------------------\n",
      "  o  |   x  |   x\n",
      "------------------\n",
      "  o  |   8  |   9\n",
      "I win!\n"
     ]
    },
    {
     "ename": "SystemExit",
     "evalue": "0",
     "output_type": "error",
     "traceback": [
      "An exception has occurred, use %tb to see the full traceback.\n",
      "\u001b[0;31mSystemExit\u001b[0m\u001b[0;31m:\u001b[0m 0\n"
     ]
    },
    {
     "name": "stderr",
     "output_type": "stream",
     "text": [
      "/anaconda/lib/python3.5/site-packages/IPython/core/interactiveshell.py:2870: UserWarning: To exit: use 'exit', 'quit', or Ctrl-D.\n",
      "  warn(\"To exit: use 'exit', 'quit', or Ctrl-D.\", stacklevel=1)\n"
     ]
    }
   ],
   "source": [
    "\"Main loop of game lasts less than 9 moves.\"\n",
    "while (moveCounter < 9):\n",
    "\n",
    "    move = input(\"Choose your move: \")\n",
    "\n",
    "    userMoves.append(move)\n",
    "\n",
    "    \"Remove move position from list of possible moves.\"\n",
    "    if (len(moves) >= 0):\n",
    "        moves.remove(move)\n",
    "    else:\n",
    "        break\n",
    "\n",
    "    populate(move, 'x')\n",
    "\n",
    "    printField()\n",
    "\n",
    "    moveCounter += 1\n",
    "\n",
    "    checkWinner('x')\n",
    "\n",
    "    print (\"My turn: \")\n",
    "\n",
    "    if len(moves) > 0:\n",
    "        myMove = think()\n",
    "\n",
    "    if (myMove in moves):\n",
    "        moves.remove(myMove)\n",
    "    else:\n",
    "        print (\"not in list\")\n",
    "        break\n",
    "\n",
    "    populate(myMove, 'o')\n",
    "\n",
    "    printField()\n",
    "\n",
    "    moveCounter += 1\n",
    "\n",
    "    checkWinner('o')\n",
    "\n",
    "if catsGame:\n",
    "    print (\"cats game...\")\n",
    "else:\n",
    "    print(\"...\")"
   ]
  },
  {
   "cell_type": "code",
   "execution_count": null,
   "metadata": {
    "collapsed": true
   },
   "outputs": [],
   "source": []
  }
 ],
 "metadata": {
  "kernelspec": {
   "display_name": "Python 3",
   "language": "python",
   "name": "python3"
  },
  "language_info": {
   "codemirror_mode": {
    "name": "ipython",
    "version": 3
   },
   "file_extension": ".py",
   "mimetype": "text/x-python",
   "name": "python",
   "nbconvert_exporter": "python",
   "pygments_lexer": "ipython3",
   "version": "3.5.4"
  }
 },
 "nbformat": 4,
 "nbformat_minor": 2
}
